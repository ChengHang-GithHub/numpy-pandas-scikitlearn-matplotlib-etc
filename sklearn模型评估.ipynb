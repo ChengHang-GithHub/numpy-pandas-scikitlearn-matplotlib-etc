{
 "cells": [
  {
   "cell_type": "markdown",
   "metadata": {},
   "source": [
    "# 模型的评估\n",
    "除了使用estimator的score函数简单粗暴地评估模型的质量之外，在sklearn.metrics模块针对不同的问题提出了各种评价指标。使用sklearn.model_selection模块中的交叉验证相关方法可以评估模型的泛化能力，能有有效地避免过拟合。\n",
    "## 一、metrics评估模型综述\n",
    "sklearn.metrics中评估指标有两类：以_score结尾，越大越好；以_error或_loss结尾，越小越好。<br>\n",
    "常用的分类评估指标;acuracy_score、f1_score、precision_score、recall_score等。<br>\n",
    "常用的回归评估指标包括：r2_score、explained_variance_score 等。<br>\n",
    "常用的聚类评估指标包括：adjusted_rand_score、adjusted_mutual_info_score等。<br>\n",
    "### 1.分类模型的评估<br>\n",
    "confusion_matrix 混淆矩阵，误差矩阵。<br>\n",
    "TP:真正例          FN:假负例 <br>\n",
    "FP:假正例          TN:真负例<br><br>\n",
    "模型整体分类效果评估：<br>\n",
    "accuracy正确率：（TP+TN）/(TP+TN+FP+FN)<br>\n",
    "模型对某种类别的分类效果：<br>\n",
    "precision精确率：也叫查准率，不把正样本标错的能力。公式：TP/(TP+FP)<br>\n",
    "recall召回率：也叫查全率，识别全部正样本的能力。公式：TP/(TP+FN)<br>\n",
    "f1_score：精确率和召回率的调和平均值。公式：2PR/（P+R）<br><br>\n",
    "利用不同方式将类别效果进行求和平均得到整体分类效果：<br>\n",
    "macro_avergaed:宏平均，每种类别预测的效果一样重要。计算方法：统计各个类标的TP、FP、FN、TN，分别计算各自的Precision和Recall，得到各自的F1值，然后取平均值得到macro-F1。<br>\n",
    "micro_averaged:微平均，每一次分类预测的效果一样重要。计算方法：统计各个类标的TP、FP、FN、TN，加和构成新的TP、FP、FN、TN，然后即可计算micro-Precision和micro-Recall，得到micro-F1。<br>\n",
    "weighted_averaged：加权平均，每种类别预测的效果与该样本出现的频率成正比。<br><br>\n",
    "仅适用于概率模型且问题为二分类问题的评估方法：<br>\n",
    "ROC曲线、auc_score<br>"
   ]
  },
  {
   "cell_type": "code",
   "execution_count": 138,
   "metadata": {},
   "outputs": [
    {
     "name": "stdout",
     "output_type": "stream",
     "text": [
      "[[18  0  0]\n",
      " [ 0 13  1]\n",
      " [ 0  0 18]]\n",
      "准确率： 0.98\n",
      "精度（查准率）： [1.         1.         0.94736842]\n",
      "召回率（查全率）： [1.         0.92857143 1.        ]\n",
      "F-score: [1.         0.96296296 0.97297297]\n",
      "精度（查准率）： 0.9824561403508771\n",
      "召回率（查全率）： 0.98\n",
      "F-score: 0.9798998998998999\n"
     ]
    }
   ],
   "source": [
    "from sklearn import metrics   #引入metrics模块\n",
    "from sklearn import datasets\n",
    "from sklearn.model_selection import train_test_split\n",
    "from sklearn.svm import SVC\n",
    "\n",
    "iris=datasets.load_iris()\n",
    "cal=SVC(kernel='linear')\n",
    "x_train,x_test,y_train,y_test=train_test_split(iris.data,iris.target,test_size=1/3)\n",
    "cal.fit(x_train,y_train)\n",
    "y_predict=cal.predict(x_test)\n",
    "print(metrics.confusion_matrix(y_test,y_predict))\n",
    "print(\"准确率：\",metrics.accuracy_score(y_test,y_predict))\n",
    "print(\"精度（查准率）：\",metrics.precision_score(y_test,y_predict,average=None))#输出每个类别的查准率\n",
    "print(\"召回率（查全率）：\",metrics.recall_score(y_test,y_predict,average=None))#输出每个类别的查全率\n",
    "print(\"F-score:\",metrics.f1_score(y_test,y_predict,average=None))#输出每个类别f1_score\n",
    "print(\"精度（查准率）：\",metrics.precision_score(y_test,y_predict,average='macro'))#输出每个类别的查准率\n",
    "print(\"召回率（查全率）：\",metrics.recall_score(y_test,y_predict,average='micro'))#输出每个类别的查全率\n",
    "print(\"F-score:\",metrics.f1_score(y_test,y_predict,average='weighted'))#输出每个类别f1_score"
   ]
  },
  {
   "cell_type": "markdown",
   "metadata": {},
   "source": [
    "# 2.回归模型的评估\n",
    "回归模型常用的评估指标有：<br>\n",
    "r2_score=1-$\\frac{\\sum_i(y_i-\\hat y_i)}{\\sum_i(y_i-\\bar y)}$ <br>\n",
    "explained_variance_score=1-$\\frac{Var(y_i-\\hat y_i)}{Var(y_i)}$"
   ]
  },
  {
   "cell_type": "code",
   "execution_count": 139,
   "metadata": {},
   "outputs": [
    {
     "name": "stdout",
     "output_type": "stream",
     "text": [
      "R^2: 0.7541132896183421\n",
      "explained_variance_score: 0.7553234228617665\n"
     ]
    }
   ],
   "source": [
    "from sklearn import datasets\n",
    "from sklearn.model_selection import train_test_split \n",
    "from sklearn.preprocessing import MinMaxScaler\n",
    "from sklearn.tree import DecisionTreeRegressor\n",
    "from sklearn import metrics\n",
    "\n",
    "boston=datasets.load_boston()\n",
    "\n",
    "scaler=MinMaxScaler(feature_range=(0,1))\n",
    "scaler.fit_transform(boston.data)\n",
    "\n",
    "x_train,x_test,y_train,y_test=train_test_split(boston.data,boston.target,test_size=1/3)\n",
    "\n",
    "reg=DecisionTreeRegressor()\n",
    "reg.fit(x_train,y_train)\n",
    "y_predict=reg.predict(x_test)\n",
    "\n",
    "print(\"R^2:\",metrics.r2_score(y_predict,y_test))\n",
    "print(\"explained_variance_score:\",metrics.explained_variance_score(y_predict,y_test))\n"
   ]
  },
  {
   "cell_type": "markdown",
   "metadata": {},
   "source": [
    "### 3.是用虚拟估计器产生基准得分\n",
    "对于监督学习（分类和回归）、可以采用一些基于经验的简单估计策略（虚拟估计）的得分作为参照基准值。\n",
    "DummyClassifier 实现了几种简单的分类策略:<br><br>\n",
    "stratified　　　　　　 通过在训练集类分布方面来生成随机预测<br>\n",
    "most_frequent　　　　　 总是预测训练集中最常见的标签<br>\n",
    "prior 　　　　　　类似most_frequenct，但具有precit_proba方法<br>\n",
    "uniform 　　　　　　　　　　　随机产生预测<br>\n",
    "constant 　　　　　　　总是预测用户提供的常量标签<br><br>\n",
    "DummyRegressor 实现了四个简单的经验法则来进行回归:<br><br>\n",
    "mean 　　　　　　　　　总是预测训练目标的平均值<br>\n",
    "median 　　　　　　　　总是预测训练目标的中位数<br>\n",
    "quantile 　　　总是预测用户提供的训练目标的 quantile（分位数）<br>\n",
    "constant　　　　　　　　 总是预测由用户提供的常数值<br>"
   ]
  },
  {
   "cell_type": "code",
   "execution_count": 140,
   "metadata": {},
   "outputs": [],
   "source": [
    "from sklearn import datasets\n",
    "from sklearn.model_selection import train_test_split\n",
    "from sklearn.svm import SVC\n",
    "from sklearn.dummy import DummyClassifier"
   ]
  },
  {
   "cell_type": "code",
   "execution_count": 141,
   "metadata": {},
   "outputs": [
    {
     "name": "stdout",
     "output_type": "stream",
     "text": [
      "dummy_score: 0.28\n",
      "svc_score: 1.0\n"
     ]
    }
   ],
   "source": [
    "iris=datasets.load_iris()\n",
    "\n",
    "x_train,x_test,y_train,y_test=train_test_split(iris.data,iris.target,test_size=1/3)\n",
    "\n",
    "dummy=DummyClassifier(strategy='stratified')\n",
    "svc=SVC(kernel='linear')\n",
    "\n",
    "dummy.fit(x_train,y_train)\n",
    "svc.fit(x_train,y_train)\n",
    "\n",
    "dummy.predict(x_test)\n",
    "svc.predict(x_test)\n",
    "\n",
    "print(\"dummy_score:\",dummy.score(x_test,y_test))\n",
    "print(\"svc_score:\",svc.score(x_test,y_test))\n",
    "\n"
   ]
  },
  {
   "cell_type": "markdown",
   "metadata": {},
   "source": [
    "### 4.交叉验证\n",
    "交叉验证法的基本思想：以不同方式多次将数据集划分为训练集和测试集，分别测试和训练，在综合最后的测试得分。每个数据点在一些划分情况下属于训练集，在另外一些情况下属于测试集。<br>\n",
    "常用的交叉验证方法：<br>\n",
    "K折(KFold),留一交叉验证(LeaveOneOut,LOO),留P交叉验证(LeavePOut,LPO),随机排列交叉验证(ShuffleSplit)。此外，为了保证训练集中每种标签类别数据的分布和完整数据集中的分布一致，可以采用分层交叉<br>\n",
    "验证方法(StratifiedKFold，StratifiedShuffleSplit)。<br>"
   ]
  },
  {
   "cell_type": "code",
   "execution_count": 142,
   "metadata": {},
   "outputs": [
    {
     "name": "stdout",
     "output_type": "stream",
     "text": [
      "[19 15 17 13 11  1  7  0  8  4 14 10  9  5][18  3 16  2 12  6]\n",
      "[17 13 18 12 19  3 11  1  4  7 14 15  9  0][10  5  2 16  8  6]\n",
      "[ 5  4  1  7 14 18  8 15 19  0 11 16  9  6][10  2  3 12 17 13]\n",
      "[ 6 10  7  5  4  1 18 15 16 11  2 17 13  3][14 12  9  8 19  0]\n",
      "[ 9  7 15 18 10 12 13 17  3  1  8 11  0 14][19  2 16  6  4  5]\n",
      "[ 0 15  7  5 11 17 13  8 19 12  4 14  3  2][16  9  6 10 18  1]\n",
      "[ 2  8  9  4 16  5 19 17  7  1 12  6 14  0][11  3 10 13 15 18]\n",
      "[19 10  6  9  0 11  8 16  4  2 15 14 12  5][13  7  1 17  3 18]\n",
      "[ 0  1  8  3  4 18 15 12  5 17  7 11  2 13][14  6 19 10  9 16]\n",
      "[ 6  7 17 11 12  0 19 16 18 15  8  4  2  1][ 3 14 13  5  9 10]\n"
     ]
    }
   ],
   "source": [
    "#随机排列交叉验证\n",
    "from sklearn.model_selection import ShuffleSplit\n",
    "import numpy as np\n",
    "\n",
    "x=np.arange(20)\n",
    "\n",
    "ss=ShuffleSplit(n_splits=10,test_size=0.3)\n",
    "for train_index,test_index in ss.split(x):     #输入为标签为索引\n",
    "    print(\"%s%s\"%(train_index,test_index))"
   ]
  },
  {
   "cell_type": "code",
   "execution_count": 143,
   "metadata": {},
   "outputs": [
    {
     "name": "stdout",
     "output_type": "stream",
     "text": [
      "[ 2  3  7  8  9 10 11][0 1 4 5 6]\n",
      "[ 0  1  3  4  5  6 10 11][2 7 8 9]\n",
      "[0 1 2 4 5 6 7 8 9][ 3 10 11]\n"
     ]
    }
   ],
   "source": [
    "#分层K折交叉验证\n",
    "from sklearn.model_selection import StratifiedKFold\n",
    "import numpy as np\n",
    "\n",
    "x=np.ones(12)\n",
    "y=list('000011111111')\n",
    "\n",
    "skf=StratifiedKFold(n_splits=3)\n",
    "for train_index,test_index in skf.split(x,y):     #输入为标签为索引\n",
    "    print(\"%s%s\"%(train_index,test_index))"
   ]
  },
  {
   "cell_type": "code",
   "execution_count": 144,
   "metadata": {},
   "outputs": [
    {
     "name": "stdout",
     "output_type": "stream",
     "text": [
      "[5 6 8] [0 1 2 3 4 7]\n",
      "[1 3 4] [0 2 5 6 7 8]\n",
      "[0 2 7] [1 3 4 5 6 8]\n"
     ]
    }
   ],
   "source": [
    "# 留P分组交叉验证\n",
    "from sklearn.model_selection import LeavePGroupsOut\n",
    "X = np.arange(9)\n",
    "y = [1,1,1,2,2,2,2,2,2]\n",
    "groups = [1,2,1,2,2,3,3,1,3]#定义一种分组方式\n",
    "lpgo = LeavePGroupsOut(n_groups=2)#n_groups=2表示从分组中选两组作为训练集\n",
    "for train_index, test_index in lpgo.split(X, y,groups=groups):\n",
    "    print(\"%s %s\" % (train_index, test_index))"
   ]
  },
  {
   "cell_type": "markdown",
   "metadata": {},
   "source": [
    "### 5.交叉验证综合评分\n",
    "交叉验证综合评分：<br>\n",
    "调用 cross_val_score 函数可以计算模型在各交叉验证数据集上的得分。<br>\n",
    "可以指定metrics中的打分函数，也可以指定交叉验证迭代器。<br>"
   ]
  },
  {
   "cell_type": "code",
   "execution_count": 145,
   "metadata": {},
   "outputs": [
    {
     "name": "stderr",
     "output_type": "stream",
     "text": [
      "d:\\py\\lib\\site-packages\\sklearn\\svm\\base.py:193: FutureWarning: The default value of gamma will change from 'auto' to 'scale' in version 0.22 to account better for unscaled features. Set gamma explicitly to 'auto' or 'scale' to avoid this warning.\n",
      "  \"avoid this warning.\", FutureWarning)\n",
      "d:\\py\\lib\\site-packages\\sklearn\\svm\\base.py:193: FutureWarning: The default value of gamma will change from 'auto' to 'scale' in version 0.22 to account better for unscaled features. Set gamma explicitly to 'auto' or 'scale' to avoid this warning.\n",
      "  \"avoid this warning.\", FutureWarning)\n",
      "d:\\py\\lib\\site-packages\\sklearn\\svm\\base.py:193: FutureWarning: The default value of gamma will change from 'auto' to 'scale' in version 0.22 to account better for unscaled features. Set gamma explicitly to 'auto' or 'scale' to avoid this warning.\n",
      "  \"avoid this warning.\", FutureWarning)\n",
      "d:\\py\\lib\\site-packages\\sklearn\\svm\\base.py:193: FutureWarning: The default value of gamma will change from 'auto' to 'scale' in version 0.22 to account better for unscaled features. Set gamma explicitly to 'auto' or 'scale' to avoid this warning.\n",
      "  \"avoid this warning.\", FutureWarning)\n",
      "d:\\py\\lib\\site-packages\\sklearn\\svm\\base.py:193: FutureWarning: The default value of gamma will change from 'auto' to 'scale' in version 0.22 to account better for unscaled features. Set gamma explicitly to 'auto' or 'scale' to avoid this warning.\n",
      "  \"avoid this warning.\", FutureWarning)\n",
      "d:\\py\\lib\\site-packages\\sklearn\\svm\\base.py:193: FutureWarning: The default value of gamma will change from 'auto' to 'scale' in version 0.22 to account better for unscaled features. Set gamma explicitly to 'auto' or 'scale' to avoid this warning.\n",
      "  \"avoid this warning.\", FutureWarning)\n"
     ]
    },
    {
     "name": "stdout",
     "output_type": "stream",
     "text": [
      "0.63\n"
     ]
    },
    {
     "name": "stderr",
     "output_type": "stream",
     "text": [
      "d:\\py\\lib\\site-packages\\sklearn\\svm\\base.py:193: FutureWarning: The default value of gamma will change from 'auto' to 'scale' in version 0.22 to account better for unscaled features. Set gamma explicitly to 'auto' or 'scale' to avoid this warning.\n",
      "  \"avoid this warning.\", FutureWarning)\n",
      "d:\\py\\lib\\site-packages\\sklearn\\svm\\base.py:193: FutureWarning: The default value of gamma will change from 'auto' to 'scale' in version 0.22 to account better for unscaled features. Set gamma explicitly to 'auto' or 'scale' to avoid this warning.\n",
      "  \"avoid this warning.\", FutureWarning)\n",
      "d:\\py\\lib\\site-packages\\sklearn\\svm\\base.py:193: FutureWarning: The default value of gamma will change from 'auto' to 'scale' in version 0.22 to account better for unscaled features. Set gamma explicitly to 'auto' or 'scale' to avoid this warning.\n",
      "  \"avoid this warning.\", FutureWarning)\n",
      "d:\\py\\lib\\site-packages\\sklearn\\svm\\base.py:193: FutureWarning: The default value of gamma will change from 'auto' to 'scale' in version 0.22 to account better for unscaled features. Set gamma explicitly to 'auto' or 'scale' to avoid this warning.\n",
      "  \"avoid this warning.\", FutureWarning)\n"
     ]
    }
   ],
   "source": [
    "#使用cross_val_score函数\n",
    "from sklearn import datasets\n",
    "from sklearn.model_selection import cross_val_score\n",
    "from sklearn.svm import SVC\n",
    "\n",
    "bc=datasets.load_breast_cancer()\n",
    "svc=SVC(kernel='rbf',C=1)\n",
    "score=cross_val_score(svc,bc.data,bc.target,cv=10)\n",
    "print(\"%2.2f\"%score.mean())"
   ]
  },
  {
   "cell_type": "code",
   "execution_count": 146,
   "metadata": {},
   "outputs": [
    {
     "name": "stderr",
     "output_type": "stream",
     "text": [
      "d:\\py\\lib\\site-packages\\sklearn\\svm\\base.py:193: FutureWarning: The default value of gamma will change from 'auto' to 'scale' in version 0.22 to account better for unscaled features. Set gamma explicitly to 'auto' or 'scale' to avoid this warning.\n",
      "  \"avoid this warning.\", FutureWarning)\n",
      "d:\\py\\lib\\site-packages\\sklearn\\metrics\\classification.py:1437: UndefinedMetricWarning: F-score is ill-defined and being set to 0.0 in labels with no predicted samples.\n",
      "  'precision', 'predicted', average, warn_for)\n",
      "d:\\py\\lib\\site-packages\\sklearn\\svm\\base.py:193: FutureWarning: The default value of gamma will change from 'auto' to 'scale' in version 0.22 to account better for unscaled features. Set gamma explicitly to 'auto' or 'scale' to avoid this warning.\n",
      "  \"avoid this warning.\", FutureWarning)\n",
      "d:\\py\\lib\\site-packages\\sklearn\\metrics\\classification.py:1437: UndefinedMetricWarning: F-score is ill-defined and being set to 0.0 in labels with no predicted samples.\n",
      "  'precision', 'predicted', average, warn_for)\n",
      "d:\\py\\lib\\site-packages\\sklearn\\svm\\base.py:193: FutureWarning: The default value of gamma will change from 'auto' to 'scale' in version 0.22 to account better for unscaled features. Set gamma explicitly to 'auto' or 'scale' to avoid this warning.\n",
      "  \"avoid this warning.\", FutureWarning)\n",
      "d:\\py\\lib\\site-packages\\sklearn\\metrics\\classification.py:1437: UndefinedMetricWarning: F-score is ill-defined and being set to 0.0 in labels with no predicted samples.\n",
      "  'precision', 'predicted', average, warn_for)\n",
      "d:\\py\\lib\\site-packages\\sklearn\\svm\\base.py:193: FutureWarning: The default value of gamma will change from 'auto' to 'scale' in version 0.22 to account better for unscaled features. Set gamma explicitly to 'auto' or 'scale' to avoid this warning.\n",
      "  \"avoid this warning.\", FutureWarning)\n",
      "d:\\py\\lib\\site-packages\\sklearn\\metrics\\classification.py:1437: UndefinedMetricWarning: F-score is ill-defined and being set to 0.0 in labels with no predicted samples.\n",
      "  'precision', 'predicted', average, warn_for)\n",
      "d:\\py\\lib\\site-packages\\sklearn\\svm\\base.py:193: FutureWarning: The default value of gamma will change from 'auto' to 'scale' in version 0.22 to account better for unscaled features. Set gamma explicitly to 'auto' or 'scale' to avoid this warning.\n",
      "  \"avoid this warning.\", FutureWarning)\n",
      "d:\\py\\lib\\site-packages\\sklearn\\metrics\\classification.py:1437: UndefinedMetricWarning: F-score is ill-defined and being set to 0.0 in labels with no predicted samples.\n",
      "  'precision', 'predicted', average, warn_for)\n",
      "d:\\py\\lib\\site-packages\\sklearn\\svm\\base.py:193: FutureWarning: The default value of gamma will change from 'auto' to 'scale' in version 0.22 to account better for unscaled features. Set gamma explicitly to 'auto' or 'scale' to avoid this warning.\n",
      "  \"avoid this warning.\", FutureWarning)\n",
      "d:\\py\\lib\\site-packages\\sklearn\\metrics\\classification.py:1437: UndefinedMetricWarning: F-score is ill-defined and being set to 0.0 in labels with no predicted samples.\n",
      "  'precision', 'predicted', average, warn_for)\n"
     ]
    },
    {
     "name": "stdout",
     "output_type": "stream",
     "text": [
      "0.39\n"
     ]
    },
    {
     "name": "stderr",
     "output_type": "stream",
     "text": [
      "d:\\py\\lib\\site-packages\\sklearn\\svm\\base.py:193: FutureWarning: The default value of gamma will change from 'auto' to 'scale' in version 0.22 to account better for unscaled features. Set gamma explicitly to 'auto' or 'scale' to avoid this warning.\n",
      "  \"avoid this warning.\", FutureWarning)\n",
      "d:\\py\\lib\\site-packages\\sklearn\\metrics\\classification.py:1437: UndefinedMetricWarning: F-score is ill-defined and being set to 0.0 in labels with no predicted samples.\n",
      "  'precision', 'predicted', average, warn_for)\n",
      "d:\\py\\lib\\site-packages\\sklearn\\svm\\base.py:193: FutureWarning: The default value of gamma will change from 'auto' to 'scale' in version 0.22 to account better for unscaled features. Set gamma explicitly to 'auto' or 'scale' to avoid this warning.\n",
      "  \"avoid this warning.\", FutureWarning)\n",
      "d:\\py\\lib\\site-packages\\sklearn\\metrics\\classification.py:1437: UndefinedMetricWarning: F-score is ill-defined and being set to 0.0 in labels with no predicted samples.\n",
      "  'precision', 'predicted', average, warn_for)\n",
      "d:\\py\\lib\\site-packages\\sklearn\\svm\\base.py:193: FutureWarning: The default value of gamma will change from 'auto' to 'scale' in version 0.22 to account better for unscaled features. Set gamma explicitly to 'auto' or 'scale' to avoid this warning.\n",
      "  \"avoid this warning.\", FutureWarning)\n",
      "d:\\py\\lib\\site-packages\\sklearn\\metrics\\classification.py:1437: UndefinedMetricWarning: F-score is ill-defined and being set to 0.0 in labels with no predicted samples.\n",
      "  'precision', 'predicted', average, warn_for)\n",
      "d:\\py\\lib\\site-packages\\sklearn\\svm\\base.py:193: FutureWarning: The default value of gamma will change from 'auto' to 'scale' in version 0.22 to account better for unscaled features. Set gamma explicitly to 'auto' or 'scale' to avoid this warning.\n",
      "  \"avoid this warning.\", FutureWarning)\n",
      "d:\\py\\lib\\site-packages\\sklearn\\metrics\\classification.py:1437: UndefinedMetricWarning: F-score is ill-defined and being set to 0.0 in labels with no predicted samples.\n",
      "  'precision', 'predicted', average, warn_for)\n"
     ]
    }
   ],
   "source": [
    "#改变评分方法\n",
    "score=cross_val_score(svc,bc.data,bc.target,cv=10,scoring='f1_macro')\n",
    "print(\"%2.2f\"%score.mean())"
   ]
  },
  {
   "cell_type": "code",
   "execution_count": 147,
   "metadata": {},
   "outputs": [
    {
     "name": "stderr",
     "output_type": "stream",
     "text": [
      "d:\\py\\lib\\site-packages\\sklearn\\svm\\base.py:193: FutureWarning: The default value of gamma will change from 'auto' to 'scale' in version 0.22 to account better for unscaled features. Set gamma explicitly to 'auto' or 'scale' to avoid this warning.\n",
      "  \"avoid this warning.\", FutureWarning)\n",
      "d:\\py\\lib\\site-packages\\sklearn\\svm\\base.py:193: FutureWarning: The default value of gamma will change from 'auto' to 'scale' in version 0.22 to account better for unscaled features. Set gamma explicitly to 'auto' or 'scale' to avoid this warning.\n",
      "  \"avoid this warning.\", FutureWarning)\n",
      "d:\\py\\lib\\site-packages\\sklearn\\svm\\base.py:193: FutureWarning: The default value of gamma will change from 'auto' to 'scale' in version 0.22 to account better for unscaled features. Set gamma explicitly to 'auto' or 'scale' to avoid this warning.\n",
      "  \"avoid this warning.\", FutureWarning)\n",
      "d:\\py\\lib\\site-packages\\sklearn\\svm\\base.py:193: FutureWarning: The default value of gamma will change from 'auto' to 'scale' in version 0.22 to account better for unscaled features. Set gamma explicitly to 'auto' or 'scale' to avoid this warning.\n",
      "  \"avoid this warning.\", FutureWarning)\n",
      "d:\\py\\lib\\site-packages\\sklearn\\svm\\base.py:193: FutureWarning: The default value of gamma will change from 'auto' to 'scale' in version 0.22 to account better for unscaled features. Set gamma explicitly to 'auto' or 'scale' to avoid this warning.\n",
      "  \"avoid this warning.\", FutureWarning)\n"
     ]
    },
    {
     "name": "stdout",
     "output_type": "stream",
     "text": [
      "0.63\n"
     ]
    }
   ],
   "source": [
    "#改变交叉验证策略\n",
    "from sklearn.model_selection import ShuffleSplit,StratifiedKFold\n",
    "ss=ShuffleSplit(n_splits=5)\n",
    "ss1=StratifiedKFold(n_splits=5)\n",
    "score=cross_val_score(svc,bc.data,bc.target,cv=ss1)\n",
    "print(\"%2.2f\"%score.mean())"
   ]
  },
  {
   "cell_type": "code",
   "execution_count": 155,
   "metadata": {},
   "outputs": [
    {
     "name": "stdout",
     "output_type": "stream",
     "text": [
      "{'fit_time': array([0.00199366, 0.0009985 , 0.00099683, 0.00099802, 0.0009985 ,\n",
      "       0.00099707, 0.00098538, 0.        , 0.00099874, 0.0010047 ]), 'score_time': array([0.00199676, 0.00099754, 0.00199199, 0.00199485, 0.00199199,\n",
      "       0.00305128, 0.00099707, 0.00296712, 0.0020268 , 0.0019865 ]), 'test_f1_macro': array([1.        , 0.93265993, 1.        , 1.        , 0.86111111,\n",
      "       1.        , 0.93265993, 1.        , 1.        , 1.        ]), 'test_f1_micro': array([1.        , 0.93333333, 1.        , 1.        , 0.86666667,\n",
      "       1.        , 0.93333333, 1.        , 1.        , 1.        ])}\n",
      "[0.00199366 0.0009985  0.00099683 0.00099802 0.0009985  0.00099707\n",
      " 0.00098538 0.         0.00099874 0.0010047 ]\n",
      "[0.00199676 0.00099754 0.00199199 0.00199485 0.00199199 0.00305128\n",
      " 0.00099707 0.00296712 0.0020268  0.0019865 ]\n",
      "f1_micro: [1.         0.93333333 1.         1.         0.86666667 1.\n",
      " 0.93333333 1.         1.         1.        ]\n",
      "f1_macro: [1.         0.93265993 1.         1.         0.86111111 1.\n",
      " 0.93265993 1.         1.         1.        ]\n"
     ]
    }
   ],
   "source": [
    "#使用cross_validate,基本用法同cross_val_score，比起更高级\n",
    "from sklearn.model_selection import cross_validate\n",
    "#from sklearn.metrics import recall_score\n",
    "clf = SVC(kernel='linear', C=1, random_state=0)\n",
    "scores = cross_validate(clf, iris.data, iris.target, scoring=['f1_macro','f1_micro'],#返回的是一个字典\n",
    "                        cv=10, return_train_score=False)\n",
    "print(scores)  #打印这个字典\n",
    "#scores['test_recall_macro'] \n",
    "print(scores['fit_time']) #训练集拟合时间\n",
    "print(scores['score_time'])#测试集评分时间\n",
    "print('f1_micro:',scores['test_f1_micro'])\n",
    "print('f1_macro:',scores['test_f1_macro'])"
   ]
  },
  {
   "cell_type": "code",
   "execution_count": null,
   "metadata": {},
   "outputs": [],
   "source": []
  },
  {
   "cell_type": "code",
   "execution_count": null,
   "metadata": {},
   "outputs": [],
   "source": []
  }
 ],
 "metadata": {
  "kernelspec": {
   "display_name": "Python 3",
   "language": "python",
   "name": "python3"
  },
  "language_info": {
   "codemirror_mode": {
    "name": "ipython",
    "version": 3
   },
   "file_extension": ".py",
   "mimetype": "text/x-python",
   "name": "python",
   "nbconvert_exporter": "python",
   "pygments_lexer": "ipython3",
   "version": "3.6.1"
  }
 },
 "nbformat": 4,
 "nbformat_minor": 2
}
