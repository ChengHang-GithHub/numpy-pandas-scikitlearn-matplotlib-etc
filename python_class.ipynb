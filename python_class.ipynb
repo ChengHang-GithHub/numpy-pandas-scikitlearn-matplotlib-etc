{
 "cells": [
  {
   "cell_type": "markdown",
   "metadata": {},
   "source": [
    "# 类\n",
    "理解面向对象编程以及实例化的概念"
   ]
  },
  {
   "cell_type": "markdown",
   "metadata": {},
   "source": [
    "## 9.1创建和使用类\n",
    "### 9.1.1 创建Dog类"
   ]
  },
  {
   "cell_type": "code",
   "execution_count": 22,
   "metadata": {},
   "outputs": [],
   "source": [
    "class Dog():\n",
    "    def __init__(self, name, age):\n",
    "        self.name=name\n",
    "        self.age=age\n",
    "    def sit(self):\n",
    "        print(self.name.title()+\" is now sitting!\")\n",
    "    def roll_over(self):\n",
    "        print(self.name.title()+\" rolled over!\")\n",
    "  "
   ]
  },
  {
   "cell_type": "markdown",
   "metadata": {},
   "source": [
    "### 9.1.2使用类创建实例\n",
    "创建实例，并使用实例来访问属性和方法"
   ]
  },
  {
   "cell_type": "code",
   "execution_count": 23,
   "metadata": {},
   "outputs": [
    {
     "name": "stdout",
     "output_type": "stream",
     "text": [
      "my dog is peter,he's 6 years old!\n",
      "Peter is now sitting!\n",
      "Peter rolled over!\n"
     ]
    }
   ],
   "source": [
    "my_dog = Dog('peter',6)\n",
    "print(\"my dog is \"+my_dog.name+\",he's \"+str(my_dog.age)+\" years old!\")\n",
    "my_dog.sit()\n",
    "my_dog.roll_over()"
   ]
  },
  {
   "cell_type": "markdown",
   "metadata": {},
   "source": [
    "## 9.2类与实例\n",
    "### 9.2.1 car类"
   ]
  },
  {
   "cell_type": "code",
   "execution_count": 27,
   "metadata": {},
   "outputs": [
    {
     "name": "stdout",
     "output_type": "stream",
     "text": [
      "2025 Audi A8\n"
     ]
    }
   ],
   "source": [
    "class Car():\n",
    "    def __init__(self,make,model,year):\n",
    "        self.make=make\n",
    "        self.model=model\n",
    "        self.year=year\n",
    "    \n",
    "    def get_descrip_name(self):\n",
    "        long_name=str(self.year)+' '+self.make+' '+self.model\n",
    "        return long_name.title()\n",
    "    \n",
    "my_car=Car('audi','A8',2025)\n",
    "print(my_car.get_descrip_name())"
   ]
  },
  {
   "cell_type": "markdown",
   "metadata": {},
   "source": [
    "### 9.2.2给属性指定默认值\n",
    "如果为某个属性设置了默认值，那么就无需包含为他提供初始值的形参。"
   ]
  },
  {
   "cell_type": "markdown",
   "metadata": {},
   "source": [
    "### 9.2.3 修改属性的值\n",
    "1.直接修改属性值<br>\n",
    "2.通过方法（定义更新函数）修改属性值<br>\n",
    "3.通过方法对属性的值进行递增<br>"
   ]
  },
  {
   "cell_type": "markdown",
   "metadata": {},
   "source": [
    "## 9.3 继承\n",
    "一个类继承另外一个类时，它将自动获得另一个类的所有属性和方法；原有的类称为父类，而新的类称为子类。子类继承了父类\n",
    "所有的属性和方法。\n",
    "### 9.3.1子类定义与初始化\n",
    "创建子类的实例时，python需要完成的任务是给父类的所有属性赋值。为此子类的方法__init__()需要父类施以援手。"
   ]
  },
  {
   "cell_type": "code",
   "execution_count": 31,
   "metadata": {},
   "outputs": [
    {
     "name": "stdout",
     "output_type": "stream",
     "text": [
      "2025 Audi A8\n",
      "this is a car has a 72-V!\n"
     ]
    }
   ],
   "source": [
    "class Car():\n",
    "    def __init__(self,make,model,year):\n",
    "        self.make=make\n",
    "        self.model=model\n",
    "        self.year=year\n",
    "    \n",
    "    def get_descrip_name(self):\n",
    "        long_name=str(self.year)+' '+self.make+' '+self.model\n",
    "        return long_name.title()\n",
    "class Elcar(Car):\n",
    "    def __init__(self,make,model,year):\n",
    "        super().__init__(make,model,year)#初始化父类属性值\n",
    "        self.battery_size=72   #初始化子类定义的属性\n",
    "    \n",
    "    def descrip_battery(self):      #定义子类的函数\n",
    "        print(\"this is a car has a \"+str(self.battery_size)+\"-V!\")\n",
    "        \n",
    "my_car=Elcar('audi','A8',2025)\n",
    "print(my_car.get_descrip_name())\n",
    "my_car.descrip_battery()"
   ]
  },
  {
   "cell_type": "markdown",
   "metadata": {},
   "source": [
    "### 9.3.4 重写父类的方法\n",
    "在子类中重新定义方法，函数名要与父类中的函数名重名。"
   ]
  },
  {
   "cell_type": "markdown",
   "metadata": {},
   "source": [
    "### 9.3.5实例用做属性\n",
    "使用代码模拟实例时，给类添加的细节会越来越多：属性和方法清单以及文件越来越长。这种情况下可以将类的一部分作为一个独立的类提取出来，可以将大型类拆分成几个独立工作的小类（在大类里面使用小类，例如用小类给大类的属性赋值）。"
   ]
  },
  {
   "cell_type": "markdown",
   "metadata": {},
   "source": [
    "## 9.4 导入类\n",
    "### 9.4.1 导入\n",
    "from 模块名 import 类名1，类名2 　　　　 #从模块中导入多个类<br>\n",
    "import 模块名 　　　　　　　　　　#导入模块<br>\n",
    "from 模块名 import * 　　　　　　　　#导入模块中所有类<br>"
   ]
  },
  {
   "cell_type": "markdown",
   "metadata": {},
   "source": [
    "### 9.4.2在一个模块中存储多个类\n",
    "可根据需要在模块中存储任意数量的类"
   ]
  }
 ],
 "metadata": {
  "kernelspec": {
   "display_name": "Python 3",
   "language": "python",
   "name": "python3"
  },
  "language_info": {
   "codemirror_mode": {
    "name": "ipython",
    "version": 3
   },
   "file_extension": ".py",
   "mimetype": "text/x-python",
   "name": "python",
   "nbconvert_exporter": "python",
   "pygments_lexer": "ipython3",
   "version": "3.6.1"
  }
 },
 "nbformat": 4,
 "nbformat_minor": 2
}
