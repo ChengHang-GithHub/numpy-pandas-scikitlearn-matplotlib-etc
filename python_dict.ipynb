{
 "cells": [
  {
   "cell_type": "markdown",
   "metadata": {},
   "source": [
    "# 第六章 字典\n",
    "## 6.1使用字典\n",
    "在python中字典是一系列键-值对。每个键都与一个值相关联，我们可以使用键来访问与之相关联的值，与键相关联的值可以是数字、字符串、列表乃至字典。字典用存放在花括号{}里面的一些列键值对表示，键和值之间用冒号分隔，而键值对之间用逗号分隔。"
   ]
  },
  {
   "cell_type": "markdown",
   "metadata": {},
   "source": [
    "### 6.1.1访问字典中的值\n",
    "指定字典名和放在方括号内的键可实现访问字典内与键相关联的值。"
   ]
  },
  {
   "cell_type": "markdown",
   "metadata": {},
   "source": [
    "### 6.1.2添加、修改键-值对\n",
    "依次指定字典名、用方括号括起的键和相关联的值"
   ]
  },
  {
   "cell_type": "markdown",
   "metadata": {},
   "source": [
    "### 6.1.3创建一个空字典\n",
    "dict_0={}"
   ]
  },
  {
   "cell_type": "markdown",
   "metadata": {},
   "source": [
    "### 6.1.4删除键-值对\n",
    "可使用del语句删除，使用del语句时必须指定字典名和要删除的键。"
   ]
  },
  {
   "cell_type": "markdown",
   "metadata": {},
   "source": [
    "## 6.2遍历字典\n",
    "### 6.2.1遍历所有而键-值对\n",
    "要编写用于遍历字典的for循环，可声明两个变量，用于存储键值对中的键和值。对于这两个变量可以使用任何值：\n",
    "例：for k，v in use_0.items():"
   ]
  },
  {
   "cell_type": "markdown",
   "metadata": {},
   "source": [
    "### 6.2.2遍历字典中的所有键\n",
    "要编写用于遍历字典键的for循环，可声明一个变量，用于存储键值对中的键。对于这个变量可以使用任何值： 例：for names in use_0.keys():或for names in use_0:"
   ]
  },
  {
   "cell_type": "markdown",
   "metadata": {},
   "source": [
    "### 6.2.3按顺序遍历字典中的所有键\n",
    "for names in sorted(use_o.keys()):"
   ]
  },
  {
   "cell_type": "markdown",
   "metadata": {},
   "source": [
    "### 6.2.4遍历字典中的所有值\n",
    "for values in use_0.values():　　　　　#输出所有值，包含重复<br>\n",
    "for values in set(use_0.values()):　　　　　#输出所有值，删除重复值<br>\n"
   ]
  },
  {
   "cell_type": "markdown",
   "metadata": {},
   "source": [
    "## 6.3嵌套\n",
    "有时候需要将一系列字典存放在列表中，或将列表作为值存放在字典之中，这称为嵌套。可以在列表中嵌套字典、在字典中嵌套列表，甚至在字典中嵌套字典。"
   ]
  },
  {
   "cell_type": "markdown",
   "metadata": {},
   "source": [
    "### 6.3.1列表中存储字典"
   ]
  },
  {
   "cell_type": "code",
   "execution_count": 7,
   "metadata": {},
   "outputs": [
    {
     "name": "stdout",
     "output_type": "stream",
     "text": [
      "{'color': 'green', 'points': [2, 3], 'speed': 0}\n",
      "{'color': 'green', 'points': [2, 3], 'speed': 1}\n",
      "{'color': 'green', 'points': [2, 3], 'speed': 2}\n",
      "{'color': 'green', 'points': [2, 3], 'speed': 3}\n"
     ]
    }
   ],
   "source": [
    "aliens=[]\n",
    "alien_0={'color':'green','points':[2,3],'speed':0}\n",
    "alien_1={'color':'green','points':[2,3],'speed':1}\n",
    "alien_2={'color':'green','points':[2,3],'speed':2}\n",
    "alien_3={'color':'green','points':[2,3],'speed':3}\n",
    "aliens.insert(0,alien_0)\n",
    "aliens.append(alien_1)\n",
    "aliens.append(alien_2)\n",
    "aliens.append(alien_3)\n",
    "for i in range(4):\n",
    " print(aliens[i])"
   ]
  },
  {
   "cell_type": "markdown",
   "metadata": {},
   "source": [
    "### 6.4.2在字典中存储列表"
   ]
  },
  {
   "cell_type": "markdown",
   "metadata": {},
   "source": [
    "### 6.4.3在字典中存储字典"
   ]
  },
  {
   "cell_type": "code",
   "execution_count": 18,
   "metadata": {},
   "outputs": [
    {
     "name": "stdout",
     "output_type": "stream",
     "text": [
      "\n",
      "xingming:ch\n",
      "full name:cheng hang\n",
      "location:zou ping\n",
      "\n",
      "xingming:renyunli\n",
      "full name:ren yun li\n",
      "location:hu he hao te\n"
     ]
    }
   ],
   "source": [
    "users={\n",
    "    'ch':{\n",
    "        'first':'cheng',\n",
    "        'last':'hang',\n",
    "        'location':'zou ping',\n",
    "    },\n",
    "    'renyunli':{\n",
    "         'first':'ren',\n",
    "        'last':'yun li',\n",
    "        'location':'hu he hao te',\n",
    "    },\n",
    "}\n",
    "for names,info in users.items():#遍历每个键值对\n",
    "    print(\"\\nxingming:\"+names)\n",
    "    print(\"full name:\"+info['first']+' '+info['last'])\n",
    "    print(\"location:\"+info['location'])\n",
    "    \n",
    "    "
   ]
  },
  {
   "cell_type": "code",
   "execution_count": null,
   "metadata": {},
   "outputs": [],
   "source": []
  },
  {
   "cell_type": "code",
   "execution_count": null,
   "metadata": {},
   "outputs": [],
   "source": []
  },
  {
   "cell_type": "code",
   "execution_count": null,
   "metadata": {},
   "outputs": [],
   "source": []
  },
  {
   "cell_type": "code",
   "execution_count": null,
   "metadata": {},
   "outputs": [],
   "source": []
  }
 ],
 "metadata": {
  "kernelspec": {
   "display_name": "Python 3",
   "language": "python",
   "name": "python3"
  },
  "language_info": {
   "codemirror_mode": {
    "name": "ipython",
    "version": 3
   },
   "file_extension": ".py",
   "mimetype": "text/x-python",
   "name": "python",
   "nbconvert_exporter": "python",
   "pygments_lexer": "ipython3",
   "version": "3.6.1"
  }
 },
 "nbformat": 4,
 "nbformat_minor": 2
}
