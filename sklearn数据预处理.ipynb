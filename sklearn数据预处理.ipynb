{
 "cells": [
  {
   "cell_type": "markdown",
   "metadata": {},
   "source": [
    "# 数据预处理\n",
    "数据预处理包括：特征的标准化、数据的正则化、缺失值处理、数据特征编码、生成多项式特征、非线性变换等<br>\n",
    "数据处理的api有两种接口，一种是类接口，需要先fit再transform，或者使用fit_transform。如：sklearn.preprocessing.StandardScaler.fit_transform(data)<br>\n",
    "第二种是函数接口，可以直接转换。如sklearn.preprocessing.scale(data)<br>\n",
    "推荐使用类接口<br>"
   ]
  },
  {
   "cell_type": "markdown",
   "metadata": {},
   "source": [
    "# 一、特征的标准化\n",
    "特征的标准化指的是将数据集的特征进行某种线性缩放或偏移。在许多情况下，特征的标准化可以改善机器学习算法的性能和效率。<br>\n",
    "常见的标准化方式：<br>\n",
    "StandardScaler:缩放至0均值，1标准差；即标准正态分布。有偏移!,with_mean=False变为无偏移！<br>\n",
    "MinMaxScaler:缩放至[0,1]之间，也可以指定范围feature_range。有偏移！<br>\n",
    "MaxAbsScaler:缩放至[-1,1]之间，无偏移!<br>\n",
    "RobustScaler:缩放有异常值的特征<br>\n",
    "\n",
    "\n",
    "\n",
    "注意！！！所有缩放器的输入必须为一列！！！"
   ]
  },
  {
   "cell_type": "code",
   "execution_count": 103,
   "metadata": {},
   "outputs": [],
   "source": [
    "import numpy as np\n",
    "import pandas as pd\n",
    "from sklearn import datasets\n",
    "from sklearn import preprocessing\n",
    "boston=datasets.load_boston()"
   ]
  },
  {
   "cell_type": "code",
   "execution_count": 104,
   "metadata": {},
   "outputs": [
    {
     "data": {
      "text/plain": [
       "array([[0.00000000e+00, 1.80000000e-01, 6.78152493e-02, ...,\n",
       "        2.87234043e-01, 1.00000000e+00, 8.96799117e-02],\n",
       "       [2.35922539e-04, 0.00000000e+00, 2.42302053e-01, ...,\n",
       "        5.53191489e-01, 1.00000000e+00, 2.04470199e-01],\n",
       "       [2.35697744e-04, 0.00000000e+00, 2.42302053e-01, ...,\n",
       "        5.53191489e-01, 9.89737254e-01, 6.34657837e-02],\n",
       "       ...,\n",
       "       [6.11892474e-04, 0.00000000e+00, 4.20454545e-01, ...,\n",
       "        8.93617021e-01, 1.00000000e+00, 1.07891832e-01],\n",
       "       [1.16072990e-03, 0.00000000e+00, 4.20454545e-01, ...,\n",
       "        8.93617021e-01, 9.91300620e-01, 1.31070640e-01],\n",
       "       [4.61841693e-04, 0.00000000e+00, 4.20454545e-01, ...,\n",
       "        8.93617021e-01, 1.00000000e+00, 1.69701987e-01]])"
      ]
     },
     "execution_count": 104,
     "metadata": {},
     "output_type": "execute_result"
    }
   ],
   "source": [
    "df=pd.DataFrame(data=boston.data,columns=list(boston.feature_names))#将数据转化为DataFrame格式\n",
    "minmaxscaler=preprocessing.MinMaxScaler(feature_range=(0,1))#定义缩放函数\n",
    "minmaxscaler.fit(df.values)   #先fit\n",
    "minmaxscaler.transform(df.values)#再transform"
   ]
  },
  {
   "cell_type": "code",
   "execution_count": 105,
   "metadata": {},
   "outputs": [
    {
     "data": {
      "text/plain": [
       "array([[  1.],\n",
       "       [100.],\n",
       "       [  0.],\n",
       "       [  0.],\n",
       "       [ -3.],\n",
       "       [  0.],\n",
       "       [  2.],\n",
       "       [  0.],\n",
       "       [  1.],\n",
       "       [  0.],\n",
       "       [  0.],\n",
       "       [ -1.]])"
      ]
     },
     "execution_count": 105,
     "metadata": {},
     "output_type": "execute_result"
    }
   ],
   "source": [
    "x=np.array([10,1000,0,0,-30,0,20,0,10,0,0,-10])\n",
    "x=x.reshape(-1,1)#转化为列向量\n",
    "x.shape\n",
    "robustscaler=preprocessing.RobustScaler()\n",
    "robustscaler.fit_transform(x)"
   ]
  },
  {
   "cell_type": "code",
   "execution_count": 106,
   "metadata": {},
   "outputs": [
    {
     "name": "stdout",
     "output_type": "stream",
     "text": [
      "(100, 1)\n"
     ]
    },
    {
     "data": {
      "text/plain": [
       "array([[ 0. ],\n",
       "       [ 0. ],\n",
       "       [ 0. ],\n",
       "       [ 0. ],\n",
       "       [ 0. ],\n",
       "       [ 0. ],\n",
       "       [ 0.1],\n",
       "       [-0.1],\n",
       "       [-0.1],\n",
       "       [ 1. ]])"
      ]
     },
     "execution_count": 106,
     "metadata": {},
     "output_type": "execute_result"
    }
   ],
   "source": [
    "y=np.zeros((1,100))\n",
    "y[0,96:]=[10,-10,-10,100]\n",
    "y=y.reshape(-1,1)\n",
    "y.shape\n",
    "scaler=preprocessing.MaxAbsScaler(copy=True)\n",
    "print(y.shape)\n",
    "c=scaler.fit_transform(y)\n",
    "c[-10:]\n"
   ]
  },
  {
   "cell_type": "code",
   "execution_count": 107,
   "metadata": {},
   "outputs": [
    {
     "data": {
      "text/plain": [
       "array([[ 0.        ],\n",
       "       [ 0.        ],\n",
       "       [ 0.        ],\n",
       "       [ 0.        ],\n",
       "       [ 0.        ],\n",
       "       [ 0.        ],\n",
       "       [ 0.98922663],\n",
       "       [-0.98922663],\n",
       "       [-0.98922663],\n",
       "       [ 9.89226633]])"
      ]
     },
     "execution_count": 107,
     "metadata": {},
     "output_type": "execute_result"
    }
   ],
   "source": [
    "scaler=preprocessing.StandardScaler(copy=True, with_mean=False, with_std=True)\n",
    "z=scaler.fit_transform(y)\n",
    "z[-10:]"
   ]
  },
  {
   "cell_type": "markdown",
   "metadata": {},
   "source": [
    "## 二、特征的正则化（normalize）\n",
    "缩放单个样本以具有单位范数的过程,正则化有时也叫归一化，正规化。常用的向量范数有“L1”和‘L2’范数"
   ]
  },
  {
   "cell_type": "code",
   "execution_count": 108,
   "metadata": {},
   "outputs": [
    {
     "data": {
      "text/plain": [
       "array([[ 0.40824829, -0.40824829,  0.81649658],\n",
       "       [ 1.        ,  0.        ,  0.        ],\n",
       "       [ 0.        ,  0.70710678, -0.70710678]])"
      ]
     },
     "execution_count": 108,
     "metadata": {},
     "output_type": "execute_result"
    }
   ],
   "source": [
    "from sklearn import preprocessing\n",
    "x=np.array([[1,-1,2],[2,0,0],[0,1,-1]])\n",
    "normalize=preprocessing.Normalizer(norm='l2')\n",
    "normalize.fit_transform(x)"
   ]
  },
  {
   "cell_type": "markdown",
   "metadata": {},
   "source": [
    "# 三、特征的二值化\n",
    "特征二值化是将数值特征用阈值过滤得到布尔值的过程"
   ]
  },
  {
   "cell_type": "code",
   "execution_count": 109,
   "metadata": {},
   "outputs": [
    {
     "data": {
      "text/plain": [
       "array([[0, 0, 1],\n",
       "       [1, 0, 0],\n",
       "       [0, 0, 0]])"
      ]
     },
     "execution_count": 109,
     "metadata": {},
     "output_type": "execute_result"
    }
   ],
   "source": [
    "x=np.array([[1,-1,2],[2,0,0],[0,1,-1]])\n",
    "binarizer=preprocessing.Binarizer(threshold=1.5).fit_transform(x)\n",
    "binarizer"
   ]
  },
  {
   "cell_type": "markdown",
   "metadata": {},
   "source": [
    "# 四、分类特征编码\n",
    "在机器学习中，特征经常不是数值型的而是分类型（标称型）。举个例子，一个人的性别可能是“male”或“female”。我们可以用0来表示“male”用1来表示“female”。但是这样的话，性别特征就变得有序了。<br>\n",
    "为了解决这个问题我么可以使用一种叫做“one-hot”（独热）的编码方式。即用两个特征值来进行编码性别[1,0]表示“male”，[0,1]表示“female”。通常使用独热编码后会增加数据的维度和稀疏性。<br>"
   ]
  },
  {
   "cell_type": "code",
   "execution_count": 113,
   "metadata": {},
   "outputs": [
    {
     "data": {
      "text/plain": [
       "array([[0, 0, 3],\n",
       "       [1, 1, 0],\n",
       "       [0, 2, 1],\n",
       "       [1, 0, 2]])"
      ]
     },
     "execution_count": 113,
     "metadata": {},
     "output_type": "execute_result"
    }
   ],
   "source": [
    "from sklearn import preprocessing\n",
    "x=x=np.array([[0,0,3],[1,1,0],[0,2,1],[1,0,2]])\n",
    "x\n"
   ]
  },
  {
   "cell_type": "code",
   "execution_count": 116,
   "metadata": {},
   "outputs": [
    {
     "name": "stderr",
     "output_type": "stream",
     "text": [
      "d:\\py\\lib\\site-packages\\sklearn\\preprocessing\\_encoders.py:415: FutureWarning: The handling of integer data will change in version 0.22. Currently, the categories are determined based on the range [0, max(values)], while in the future they will be determined based on the unique values.\n",
      "If you want the future behaviour and silence this warning, you can specify \"categories='auto'\".\n",
      "In case you used a LabelEncoder before this OneHotEncoder to convert the categories to integers, then you can now use the OneHotEncoder directly.\n",
      "  warnings.warn(msg, FutureWarning)\n"
     ]
    },
    {
     "data": {
      "text/plain": [
       "array([[1., 0., 1., 0., 0., 0., 0., 0., 1.],\n",
       "       [0., 1., 0., 1., 0., 1., 0., 0., 0.],\n",
       "       [1., 0., 0., 0., 1., 0., 1., 0., 0.],\n",
       "       [0., 1., 1., 0., 0., 0., 0., 1., 0.]])"
      ]
     },
     "execution_count": 116,
     "metadata": {},
     "output_type": "execute_result"
    }
   ],
   "source": [
    "onehot=preprocessing.OneHotEncoder().fit_transform(x).toarray()\n",
    "onehot"
   ]
  },
  {
   "cell_type": "markdown",
   "metadata": {},
   "source": [
    "# 五、处理缺失值\n",
    "1.舍弃2.从已有的数据集推断出缺失的数据集（均值，众数，中位数）\n"
   ]
  },
  {
   "cell_type": "code",
   "execution_count": 122,
   "metadata": {},
   "outputs": [
    {
     "name": "stderr",
     "output_type": "stream",
     "text": [
      "d:\\py\\lib\\site-packages\\sklearn\\utils\\deprecation.py:66: DeprecationWarning: Class Imputer is deprecated; Imputer was deprecated in version 0.20 and will be removed in 0.22. Import impute.SimpleImputer from sklearn instead.\n",
      "  warnings.warn(msg, category=DeprecationWarning)\n"
     ]
    },
    {
     "data": {
      "text/plain": [
       "array([[6.5, 2. ],\n",
       "       [6. , 4. ],\n",
       "       [7. , 6. ]])"
      ]
     },
     "execution_count": 122,
     "metadata": {},
     "output_type": "execute_result"
    }
   ],
   "source": [
    "import numpy as np\n",
    "from sklearn import preprocessing\n",
    "x=[[np.nan,2],[6,np.nan],[7,6]]\n",
    "imp=preprocessing.Imputer(missing_values='NaN',strategy='mean',axis=0)\n",
    "imp.fit_transform(x)\n"
   ]
  },
  {
   "cell_type": "code",
   "execution_count": null,
   "metadata": {},
   "outputs": [],
   "source": []
  },
  {
   "cell_type": "code",
   "execution_count": null,
   "metadata": {},
   "outputs": [],
   "source": []
  }
 ],
 "metadata": {
  "kernelspec": {
   "display_name": "Python 3",
   "language": "python",
   "name": "python3"
  },
  "language_info": {
   "codemirror_mode": {
    "name": "ipython",
    "version": 3
   },
   "file_extension": ".py",
   "mimetype": "text/x-python",
   "name": "python",
   "nbconvert_exporter": "python",
   "pygments_lexer": "ipython3",
   "version": "3.6.1"
  }
 },
 "nbformat": 4,
 "nbformat_minor": 2
}
