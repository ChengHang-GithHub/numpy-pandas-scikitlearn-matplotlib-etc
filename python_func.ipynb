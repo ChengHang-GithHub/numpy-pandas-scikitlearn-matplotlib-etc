{
 "cells": [
  {
   "cell_type": "markdown",
   "metadata": {},
   "source": [
    "# 第八章函数\n",
    "## 8.1定义函数"
   ]
  },
  {
   "cell_type": "code",
   "execution_count": 3,
   "metadata": {},
   "outputs": [
    {
     "name": "stdout",
     "output_type": "stream",
     "text": [
      "hello!\n"
     ]
    }
   ],
   "source": [
    "def greet_user():\n",
    "    print('hello!')\n",
    "    \n",
    "greet_user()"
   ]
  },
  {
   "cell_type": "markdown",
   "metadata": {},
   "source": [
    "### 8.1.1向函数传递信息"
   ]
  },
  {
   "cell_type": "code",
   "execution_count": 6,
   "metadata": {},
   "outputs": [
    {
     "name": "stdout",
     "output_type": "stream",
     "text": [
      "hello,Chenghang!\n"
     ]
    }
   ],
   "source": [
    "def user_name(name):\n",
    "    print('hello,'+name.title()+'!')\n",
    "user_name('chenghang')"
   ]
  },
  {
   "cell_type": "markdown",
   "metadata": {},
   "source": [
    "### 8.1.2形参和实参"
   ]
  },
  {
   "cell_type": "markdown",
   "metadata": {},
   "source": [
    "## 8.2传递实参\n",
    "函数传递实参的方法有很多种，可使用位置实参，这就要求实参的顺序与形参的顺序相同；也可以使用关键字实参，其中每个实参都由变量名和值组成；还可以使用列表和字典"
   ]
  },
  {
   "cell_type": "markdown",
   "metadata": {},
   "source": [
    "### 8.2.1位置实参"
   ]
  },
  {
   "cell_type": "code",
   "execution_count": 11,
   "metadata": {},
   "outputs": [
    {
     "name": "stdout",
     "output_type": "stream",
     "text": [
      "\n",
      "I have a Dog!\n",
      "it's name is Peter!\n",
      "\n",
      "I have a Cat!\n",
      "it's name is Ammy!\n"
     ]
    }
   ],
   "source": [
    "#实参与形参位置一一对应\n",
    "def describe_pet(animal_type,name):\n",
    "    print('\\nI have a '+animal_type.title()+'!')\n",
    "    print(\"it's name is \"+name.title()+'!')\n",
    "describe_pet('dog','peter')\n",
    "describe_pet('cat','ammy')"
   ]
  },
  {
   "cell_type": "markdown",
   "metadata": {},
   "source": [
    "### 关键字实参"
   ]
  },
  {
   "cell_type": "code",
   "execution_count": 12,
   "metadata": {},
   "outputs": [
    {
     "name": "stdout",
     "output_type": "stream",
     "text": [
      "\n",
      "I have a Dog!\n",
      "it's name is Peter!\n",
      "\n",
      "I have a Cat!\n",
      "it's name is Ammy!\n"
     ]
    }
   ],
   "source": [
    "def describe_pet(animal_type,name):\n",
    "    print('\\nI have a '+animal_type.title()+'!')\n",
    "    print(\"it's name is \"+name.title()+'!')\n",
    "describe_pet(animal_type='dog',name='peter')#调用函数传递实参时，加入关键词\n",
    "describe_pet(name='ammy',animal_type='cat')"
   ]
  },
  {
   "cell_type": "markdown",
   "metadata": {},
   "source": [
    "### 8.2.3默认值\n",
    "定义函数时可给每个形参指定默认值。类似于我们经常调用的python常用库中的函数。"
   ]
  },
  {
   "cell_type": "code",
   "execution_count": 15,
   "metadata": {},
   "outputs": [
    {
     "name": "stdout",
     "output_type": "stream",
     "text": [
      "\n",
      "I have a Cat!\n",
      "it's name is Peter!\n",
      "\n",
      "I have a Ammy!\n",
      "it's name is Peter!\n"
     ]
    }
   ],
   "source": [
    "def describe_pet(animal_type='dog',name='peter'):\n",
    "    print('\\nI have a '+animal_type.title()+'!')\n",
    "    print(\"it's name is \"+name.title()+'!')\n",
    "describe_pet(animal_type='cat')\n",
    "describe_pet(name='ammy')"
   ]
  },
  {
   "cell_type": "markdown",
   "metadata": {},
   "source": [
    "## 8.3返回值\n",
    "### 8.3.1返回简单值"
   ]
  },
  {
   "cell_type": "code",
   "execution_count": 18,
   "metadata": {},
   "outputs": [
    {
     "name": "stdout",
     "output_type": "stream",
     "text": [
      "Cheng Hang\n"
     ]
    }
   ],
   "source": [
    "def get_formatted_name(first_name,last_name):\n",
    "    full_name=first_name.title()+' '+last_name.title()\n",
    "    return full_name\n",
    "player=get_formatted_name(\"cheng\",\"hang\")\n",
    "print(player)"
   ]
  },
  {
   "cell_type": "markdown",
   "metadata": {},
   "source": [
    "### 8.3.2让实参变为可选的\n",
    "有时候需要让实参变得可选，这样使用函数的人只在必要时才提供额外信息。可使用默认值让实参变成可选的。"
   ]
  },
  {
   "cell_type": "code",
   "execution_count": 23,
   "metadata": {},
   "outputs": [
    {
     "name": "stdout",
     "output_type": "stream",
     "text": [
      "Cheng Luo Bo\n"
     ]
    }
   ],
   "source": [
    "def get_name(first_name,last_name,middle_name=\" \"):#使用默认值让实参变成可选的,并移到形参列表最后。\n",
    "    if middle_name:\n",
    "        full_name=first_name.title()+\" \"+middle_name.title()+\" \"+last_name.title()    \n",
    "    else:\n",
    "        full_name=first_name.title()+\" \"+last_name.title()\n",
    "    return full_name\n",
    "player=get_name(\"cheng\",\"bo\",\"luo\")\n",
    "print(player)"
   ]
  },
  {
   "cell_type": "markdown",
   "metadata": {},
   "source": [
    "### 8.3.3返回字典\n",
    "函数可返回任何类型的值，包括列表和字典等复杂的数据结构。"
   ]
  },
  {
   "cell_type": "markdown",
   "metadata": {},
   "source": [
    "### 8.3.4结合使用函数和while循环"
   ]
  },
  {
   "cell_type": "code",
   "execution_count": null,
   "metadata": {},
   "outputs": [
    {
     "name": "stdout",
     "output_type": "stream",
     "text": [
      "please input your name:(enter 'q' at any time to quit)\n",
      "\n",
      "first_name:cheng\n",
      "last_name:hang\n",
      "hello! Cheng Hang\n",
      "please input your name:(enter 'q' at any time to quit)\n",
      "\n"
     ]
    }
   ],
   "source": [
    "def get_name(first_name,last_name):\n",
    "    full_name=first_name.title()+\" \"+last_name.title()\n",
    "    return full_name\n",
    "while True:\n",
    "    print(\"please input your name:(enter 'q' at any time to quit)\\n\")\n",
    "    f_name=input(\"first_name:\")\n",
    "    if f_name =='q':\n",
    "        break\n",
    "    l_name=input(\"last_name:\")\n",
    "    if l_name=='q':\n",
    "        break\n",
    "    name=get_name(f_name,l_name)\n",
    "    print(\"hello! \"+name)\n",
    "\n"
   ]
  },
  {
   "cell_type": "markdown",
   "metadata": {},
   "source": [
    "## 8.4传递列表\n",
    "### 8.4.1在函数中修改列表"
   ]
  },
  {
   "cell_type": "code",
   "execution_count": 2,
   "metadata": {},
   "outputs": [
    {
     "name": "stdout",
     "output_type": "stream",
     "text": [
      "YUNLI\n",
      "REN\n",
      "LOVE\n",
      "HANG\n",
      "CHEN\n",
      "The following models have been printed:\n",
      "\n",
      "YUNLI\n",
      "REN\n",
      "LOVE\n",
      "HANG\n",
      "CHEN\n"
     ]
    }
   ],
   "source": [
    "def print_models(u_print,co_print):\n",
    "    while u_print:\n",
    "        cur_print=u_print.pop()\n",
    "        print(cur_print)\n",
    "        co_print.append(cur_print)\n",
    "    return co_print\n",
    "def show_com_model(com_print):\n",
    "    print(\"The following models have been printed:\\n\")\n",
    "    for x in com_print:\n",
    "        print(x)\n",
    "        \n",
    "un_print=['CHEN','HANG','LOVE','REN','YUNLI']\n",
    "com_print=[]\n",
    "\n",
    "\n",
    "cu_print=print_models(un_print,com_print)\n",
    "show_com_model(cu_print)"
   ]
  },
  {
   "cell_type": "markdown",
   "metadata": {},
   "source": [
    "### 8.4.2 禁止函数修改列表\n",
    "将列表的副本传递给函数即可。切片表示法，表示创建列表的副本例如：func_tion(list_name[:])"
   ]
  },
  {
   "cell_type": "markdown",
   "metadata": {},
   "source": [
    "## 8.5传递任意数量的实参"
   ]
  },
  {
   "cell_type": "code",
   "execution_count": 3,
   "metadata": {},
   "outputs": [
    {
     "name": "stdout",
     "output_type": "stream",
     "text": [
      "('pepperoni',)\n",
      "('mushrooms', 'gren peppers', 'extra cheese')\n"
     ]
    }
   ],
   "source": [
    "def make_pizza(*toppings):  #形参为一个名为toppings的空元组，并将收到的所有值都封装在这个元组中\n",
    "    print(toppings)\n",
    "make_pizza('pepperoni')\n",
    "make_pizza('mushrooms','gren peppers','extra cheese')"
   ]
  },
  {
   "cell_type": "markdown",
   "metadata": {},
   "source": [
    "### 8.5.1 结合使用位置实参和任意数量的实参"
   ]
  },
  {
   "cell_type": "code",
   "execution_count": 10,
   "metadata": {},
   "outputs": [
    {
     "name": "stdout",
     "output_type": "stream",
     "text": [
      "making a 16-inch pizza with the following toppings:\n",
      "-pepperoni\n",
      "making a 22-inch pizza with the following toppings:\n",
      "-mushrooms\n",
      "-gren peppers\n",
      "-extra cheese\n"
     ]
    }
   ],
   "source": [
    "def make_pizza(size,*toppings): #将接纳任意数量实参的形参放在最后\n",
    "    print(\"making a \"+str(size)+\"-inch pizza with the following toppings:\")\n",
    "    for topping in toppings:\n",
    "        print(\"-\"+topping)\n",
    "make_pizza(16,'pepperoni')\n",
    "make_pizza(22,'mushrooms','gren peppers','extra cheese')"
   ]
  },
  {
   "cell_type": "markdown",
   "metadata": {},
   "source": [
    "### 8.5.2使用任意数量的关键字实参\n",
    "在形参处声明一个空字典，实参可为任意数量的键值对"
   ]
  },
  {
   "cell_type": "code",
   "execution_count": 11,
   "metadata": {},
   "outputs": [
    {
     "name": "stdout",
     "output_type": "stream",
     "text": [
      "{'first_name': 'cheng', 'last_name': 'hang', 'hometown': 'zouping', 'location': 'nj', 'score': 100}\n"
     ]
    }
   ],
   "source": [
    "def build_pro(first_name,last_name,**dict):\n",
    "    pro={}\n",
    "    pro['first_name']=first_name\n",
    "    pro['last_name']=last_name\n",
    "    for key,value in dict.items():\n",
    "        pro[key]=value\n",
    "    return pro\n",
    "\n",
    "pro=build_pro(first_name='cheng',last_name='hang',hometown='zouping',location='nj',score=100)\n",
    "print(pro)\n",
    "        "
   ]
  },
  {
   "cell_type": "markdown",
   "metadata": {},
   "source": [
    "## 8.6将函数存储在模块中\n",
    "### 8.6.1导入整个模块\n",
    "要让函数是可导入的先创建模块。模块是扩展名为.py的文件。导入模块的方式为：import 文件名"
   ]
  },
  {
   "cell_type": "markdown",
   "metadata": {},
   "source": [
    "### 8.6.2导入特定的函数\n",
    "from 模块名 import 函数名；导入多个函数时使用逗号分割"
   ]
  },
  {
   "cell_type": "markdown",
   "metadata": {},
   "source": [
    "### 8.6.3使用as给函数指定别名\n",
    "from 模块名 import 函数名 as 别名"
   ]
  },
  {
   "cell_type": "markdown",
   "metadata": {},
   "source": [
    "### 8.6.4使用as给模块指定别名\n",
    "import 模块名 as 别名"
   ]
  },
  {
   "cell_type": "markdown",
   "metadata": {},
   "source": [
    "### 8.6.5 导入模块中所有函数\n",
    "from 模块名 import *"
   ]
  }
 ],
 "metadata": {
  "kernelspec": {
   "display_name": "Python 3",
   "language": "python",
   "name": "python3"
  },
  "language_info": {
   "codemirror_mode": {
    "name": "ipython",
    "version": 3
   },
   "file_extension": ".py",
   "mimetype": "text/x-python",
   "name": "python",
   "nbconvert_exporter": "python",
   "pygments_lexer": "ipython3",
   "version": "3.6.1"
  }
 },
 "nbformat": 4,
 "nbformat_minor": 2
}
