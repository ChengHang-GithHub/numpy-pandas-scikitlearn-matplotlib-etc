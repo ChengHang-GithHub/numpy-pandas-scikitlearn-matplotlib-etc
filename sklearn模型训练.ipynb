{
 "cells": [
  {
   "cell_type": "markdown",
   "metadata": {},
   "source": [
    "# 一、模型的训练\n",
    "## 分类模型的训练"
   ]
  },
  {
   "cell_type": "code",
   "execution_count": 208,
   "metadata": {},
   "outputs": [
    {
     "data": {
      "text/plain": [
       "array([[[ 0.,  0.,  5., ...,  1.,  0.,  0.],\n",
       "        [ 0.,  0., 13., ..., 15.,  5.,  0.],\n",
       "        [ 0.,  3., 15., ..., 11.,  8.,  0.],\n",
       "        ...,\n",
       "        [ 0.,  4., 11., ..., 12.,  7.,  0.],\n",
       "        [ 0.,  2., 14., ..., 12.,  0.,  0.],\n",
       "        [ 0.,  0.,  6., ...,  0.,  0.,  0.]],\n",
       "\n",
       "       [[ 0.,  0.,  0., ...,  5.,  0.,  0.],\n",
       "        [ 0.,  0.,  0., ...,  9.,  0.,  0.],\n",
       "        [ 0.,  0.,  3., ...,  6.,  0.,  0.],\n",
       "        ...,\n",
       "        [ 0.,  0.,  1., ...,  6.,  0.,  0.],\n",
       "        [ 0.,  0.,  1., ...,  6.,  0.,  0.],\n",
       "        [ 0.,  0.,  0., ..., 10.,  0.,  0.]],\n",
       "\n",
       "       [[ 0.,  0.,  0., ..., 12.,  0.,  0.],\n",
       "        [ 0.,  0.,  3., ..., 14.,  0.,  0.],\n",
       "        [ 0.,  0.,  8., ..., 16.,  0.,  0.],\n",
       "        ...,\n",
       "        [ 0.,  9., 16., ...,  0.,  0.,  0.],\n",
       "        [ 0.,  3., 13., ..., 11.,  5.,  0.],\n",
       "        [ 0.,  0.,  0., ..., 16.,  9.,  0.]],\n",
       "\n",
       "       ...,\n",
       "\n",
       "       [[ 0.,  0.,  1., ...,  1.,  0.,  0.],\n",
       "        [ 0.,  0., 13., ...,  2.,  1.,  0.],\n",
       "        [ 0.,  0., 16., ..., 16.,  5.,  0.],\n",
       "        ...,\n",
       "        [ 0.,  0., 16., ..., 15.,  0.,  0.],\n",
       "        [ 0.,  0., 15., ..., 16.,  0.,  0.],\n",
       "        [ 0.,  0.,  2., ...,  6.,  0.,  0.]],\n",
       "\n",
       "       [[ 0.,  0.,  2., ...,  0.,  0.,  0.],\n",
       "        [ 0.,  0., 14., ..., 15.,  1.,  0.],\n",
       "        [ 0.,  4., 16., ..., 16.,  7.,  0.],\n",
       "        ...,\n",
       "        [ 0.,  0.,  0., ..., 16.,  2.,  0.],\n",
       "        [ 0.,  0.,  4., ..., 16.,  2.,  0.],\n",
       "        [ 0.,  0.,  5., ..., 12.,  0.,  0.]],\n",
       "\n",
       "       [[ 0.,  0., 10., ...,  1.,  0.,  0.],\n",
       "        [ 0.,  2., 16., ...,  1.,  0.,  0.],\n",
       "        [ 0.,  0., 15., ..., 15.,  0.,  0.],\n",
       "        ...,\n",
       "        [ 0.,  4., 16., ..., 16.,  6.,  0.],\n",
       "        [ 0.,  8., 16., ..., 16.,  8.,  0.],\n",
       "        [ 0.,  1.,  8., ..., 12.,  1.,  0.]]])"
      ]
     },
     "execution_count": 208,
     "metadata": {},
     "output_type": "execute_result"
    }
   ],
   "source": [
    "import numpy as np   #用决策树算法识别手写字体\n",
    "import pandas as pd\n",
    "import matplotlib.pyplot as plt\n",
    "from sklearn import datasets\n",
    "from sklearn.model_selection import train_test_split\n",
    "\n",
    "digits=datasets.load_digits()\n",
    "digits.data\n",
    "digits.target\n",
    "digits.images"
   ]
  },
  {
   "cell_type": "code",
   "execution_count": 209,
   "metadata": {},
   "outputs": [
    {
     "data": {
      "image/png": "[encoded data removed]",
      "text/plain": [
       "<Figure size 500x500 with 1 Axes>"
      ]
     },
     "metadata": {
      "needs_background": "light"
     },
     "output_type": "display_data"
    }
   ],
   "source": [
    "plt.figure(figsize=(5,5),dpi=100)\n",
    "plt.axis('off')\n",
    "plt.imshow(digits.images[0],cmap=plt.cm.gray_r)\n",
    "plt.show()"
   ]
  },
  {
   "cell_type": "code",
   "execution_count": 210,
   "metadata": {},
   "outputs": [
    {
     "name": "stdout",
     "output_type": "stream",
     "text": [
      "(1198, 64)\n",
      "(599, 64)\n"
     ]
    }
   ],
   "source": [
    "x_train,x_test,y_train,y_test=train_test_split(digits.data,digits.target,test_size=1/3)\n",
    "print(x_train.shape)\n",
    "print(x_test.shape)"
   ]
  },
  {
   "cell_type": "code",
   "execution_count": 211,
   "metadata": {},
   "outputs": [
    {
     "name": "stdout",
     "output_type": "stream",
     "text": [
      "[ 7  0  0  6  0  8  0  0  0  0  0  0  0  0  5  0  0  0  0  0  0  0  0  0\n",
      "  0  0  5  0  0  0  0  0  0  0  0  0  0  0  0 -2  0  0  6  0  0  0  0  0\n",
      "  0  0  0 -5  0  0  0  0  8  0  0  0  4  0  0  0  0  0  0  0  0  0  0  0\n",
      "  0  0  0  0 -1  0  0  0  0  0  0  0  0  0  0  0 -2  0  0  0  0  0  0  0\n",
      "  7  0  0 -5  0  0  0  0  0  0  0  0  0  0 -4  0  0  0  0  2  0  0  0 -1\n",
      "  0  0  0  0  0  0  0  0  0  0  0  0  0  0  4  0  0  0  0  0  0  0  0  0\n",
      "  0  0  0  0  0  0  0 -1  0 -1 -5 -3  0  0  0 -6  0  0  4  0  0  0  0 -7\n",
      "  5  0  0  0  0  0  0  0  0  0  0  0  0  0  0 -4  0  3  0  0  0  0  0  0\n",
      "  0  0  0  0  0  0  0  0  1  0  3  0  0  0  0  0  6  0 -1  0  0  0  0  0\n",
      " -7  0 -1  0  0  0  0  0  0  0  0  0  0  0  0  0  0  0  0  0  0  0  0  0\n",
      " -6  0  0  0  2  0  0 -4  0  0  0 -3  0  0  0  0  0 -1  0  0  0  0  0  0\n",
      "  0  0  0  0  0  0  0 -1  0  0  0  0 -1  0 -1  0  0  0  0  0 -5  2  0  0\n",
      " -1  0  0  0  0  0  0  0  0  0  0  0  3  0  0  0  0  0  0  0  6  0  0  0\n",
      "  0  6  0  0  6  0  0  0  0  0  0  0  0  0  0  0  0  0  0  0  0  0  3  0\n",
      "  0  0  0  0  0  0  6  0  0  0  0  0  0  0  0  0  4  0  0  0  0  0  0  0\n",
      "  0  0  0  0  0  0  0  0  0  0  5  0  0  0  0  0  0  2  0  0  0  0  0 -2\n",
      "  0  0  0  0  0  0  0  0  0  0  5  0  0  0  0 -5  0  0  0 -4  1  0  5  0\n",
      " -2  0  0  0  5  0  0  0 -5  0  0  0  0  0  0  0  0  0  0  0  0  0 -6  0\n",
      "  0  4  0  0  0  0  0  0  0  0  0 -1  1  0  0 -6  0  0 -2  0  0  0  0  0\n",
      "  0  4  0  0  0  1  0  0  0  0  0  0  0  0  0  0  0  0  0 -2  6  0  0  0\n",
      "  2  0  0  0  0  0  0  0  0  0  0  0  0  0  0  0  0  0  4  0  0  0  0  0\n",
      " -6  0  0 -4  2  0  0  0  0  0  0  8  0  2  0  0  0  0  0  0  0  0  0  0\n",
      "  0  0  0  0 -1  0  0  4  0  0  0 -9  0  0  0 -7  0  0  0  0  0  0  0  0\n",
      "  0  0  0  0  0  0  0 -1  1  0  0  0  0  0  0  0  0  0  0  0  0  0  0  0\n",
      " -7  0  0  0  0  0  0  0  0  0  0  0  0  0  0  0  0  5  0  0  0  0  0]\n"
     ]
    },
    {
     "data": {
      "text/plain": [
       "0.8530884808013356"
      ]
     },
     "execution_count": 211,
     "metadata": {},
     "output_type": "execute_result"
    }
   ],
   "source": [
    "from sklearn.tree import DecisionTreeClassifier\n",
    "tree=DecisionTreeClassifier()\n",
    "tree.fit(x_train,y_train)\n",
    "#print(tree.predict(x_test))\n",
    "print(tree.predict(x_test)-y_test)\n",
    "tree.score(x_test,y_test)"
   ]
  },
  {
   "cell_type": "code",
   "execution_count": 212,
   "metadata": {},
   "outputs": [
    {
     "name": "stdout",
     "output_type": "stream",
     "text": [
      "[ 0  0  0  0  0  0  0  0  0  0  0  0  0  0  0  0  0  0  0  0  0  0  0  0\n",
      "  0  0  0  0  0  0  0  0  0  0  0  0  0  0  0  0  0  0 -1  0  0  0  0  0\n",
      "  0  0  0  0  0  0  0  0  0  0  0  0  0  0  0  0  0  0  0  0  0  4  0  0\n",
      "  0  0  0  0 -4  0  0  0  0  0  0 -6  0  0  0  0  0  0  0  0  0  0  0  0\n",
      "  0  0  0  1  0  0  0  0  0  0  0  0  0  0  0  0  0  0  0  0 -7  0  0  5\n",
      "  0  0  0  0  0  0  0  0  0  0  0  0  0  0 -3  0  0  0  0  0  0  0  0  0\n",
      "  0  0  0  0  0  0  0  0 -8  0  0 -3  0  0  0  0  0  0  0  0  0  0  0  0\n",
      "  0  0  0  0  0  0  0  0  0  0  0  0  0  0  0  0  0  0  0  0  0  0  0  0\n",
      "  0  0  0  0  0  0  0  0  0  0  0  0  0  0  0  0  0  0  5  0  0  0  0  0\n",
      " -5  0  0  0  0  0  0  0  0  0  0  0  0  0  0  0  0  0  0  0  0  0  0 -7\n",
      "  0  0  0 -1  0  0  0 -4  0  0  0  0  0  0  0  0  0  0  0  0  0  0  0  0\n",
      "  0  0  0  0  0  0  0  4  0  0  0 -4  0  0 -4  0  0  0  0  0 -2  0  0  0\n",
      " -4  0  0  0  0  0  0  0  0  0  0  0  0  0  0  0  0  0  0  0  0  1  0  0\n",
      "  0  0  0 -4  0  0  0  0  0  0  0  0  0  0  0  0  0  0  0  0  0  0  0  0\n",
      "  0  0  0  0  0  0  0  0  0 -2  0  0  0  0  0  0  0  0  0  0  0  0  0  0\n",
      " -1  0  0  0  0  0  0  0  0  0  0  0  0  0  0  0  0  0  0  0  0  0  0  0\n",
      "  0  0  0  0  0  0  0  0  0  0 -1  0  0  0  0  0  0  0  0  0  0  0  0  0\n",
      "  0  0  0  0  0  0  0  0  0  0  0  0  0  0  0  0 -1  0  0  0  0  0  1  0\n",
      "  0  0  0  0  0  0  0  0 -4  0  0 -1  0  0  0  0  0  0 -5  4  0  0  0  0\n",
      "  0  0 -7  0  0  0  0  0  0 -1  0  0  0  0  0  0  0  0  0  0  0  0  0  0\n",
      " -3  0  0  0  0  0  0  0  0  0  0  0  0  0  0  0  0  0  0  0  0  0  0  0\n",
      "  0  0  0  0  0  0  0  0  0  0  0  0  0  2  0  0  0  0  0  0  0  0  0  0\n",
      "  0  0  0  0  0  0  0 -2  0  0  0  0  0  0  0  0  0  0  0  0  0  0  0  0\n",
      "  0  0  0  0  0  0  0  0  0 -2  0  0  0  0  0  0  0  0  0  0  0  0  0  0\n",
      " -2  0  0  0  0  0  0  0  0  0  0  0  0  0  0  0  0  0  0  0  0  0  0]\n"
     ]
    },
    {
     "name": "stderr",
     "output_type": "stream",
     "text": [
      "d:\\py\\lib\\site-packages\\sklearn\\ensemble\\forest.py:245: FutureWarning: The default value of n_estimators will change from 10 in version 0.20 to 100 in 0.22.\n",
      "  \"10 in version 0.20 to 100 in 0.22.\", FutureWarning)\n"
     ]
    }
   ],
   "source": [
    "#使用随机森林算法识别手写字体\n",
    "from sklearn.ensemble import RandomForestClassifier\n",
    "rf=RandomForestClassifier()\n",
    "rf.fit(x_train,y_train)\n",
    "print(rf.predict(x_test)-y_test)"
   ]
  },
  {
   "cell_type": "code",
   "execution_count": 213,
   "metadata": {},
   "outputs": [
    {
     "data": {
      "text/plain": [
       "0.9365609348914858"
      ]
     },
     "execution_count": 213,
     "metadata": {},
     "output_type": "execute_result"
    }
   ],
   "source": [
    "rf.score(x_test,y_test)"
   ]
  },
  {
   "cell_type": "markdown",
   "metadata": {},
   "source": [
    "# 二、回归模型的分类"
   ]
  },
  {
   "cell_type": "code",
   "execution_count": 214,
   "metadata": {},
   "outputs": [
    {
     "name": "stdout",
     "output_type": "stream",
     "text": [
      "(169, 13)\n",
      "(337, 13)\n"
     ]
    }
   ],
   "source": [
    "#拟合波士顿房价问题\n",
    "import pandas as pd\n",
    "import numpy as np\n",
    "import matplotlib.pyplot as plt\n",
    "from sklearn import datasets\n",
    "from sklearn import preprocessing\n",
    "from sklearn.tree import DecisionTreeRegressor\n",
    "from sklearn.model_selection import train_test_split\n",
    "boston=datasets.load_boston()\n",
    "\n",
    "#分割测试集和数据集\n",
    "x_train,x_test,y_train,y_test=train_test_split(boston.data,boston.target,test_size=1/3)\n",
    "print(x_test.shape)\n",
    "print(x_train.shape)\n",
    "\n",
    "#特征处理，即进行归一化\n",
    "scaler=preprocessing.MinMaxScaler(feature_range=(0,1))\n",
    "scaler.fit(x_train)\n",
    "x_train=scaler.transform(x_train)\n",
    "x_test=scaler.transform(x_test)\n"
   ]
  },
  {
   "cell_type": "code",
   "execution_count": 215,
   "metadata": {},
   "outputs": [
    {
     "name": "stdout",
     "output_type": "stream",
     "text": [
      "[  0.7  -1.9  -0.5  -1.   -0.7   1.5   1.9  -0.5  -1.9  -5.3   0.4  -1.1\n",
      "   2.8   4.8 -32.2  -0.6  -3.2   1.7   1.5   0.8  -1.6   4.1   0.    2.1\n",
      "   1.    1.2  -0.7   0.1   0.3  -1.1  -1.2   0.1  12.3   0.8   7.2   2.8\n",
      "  -1.2   1.6  -2.    2.    3.1   4.3  -3.1   0.9  -1.8  -1.3   1.4  -1.4\n",
      "   6.5  -6.4  -6.2   3.   -0.2  -1.8  -1.2  -1.9   1.7  -0.4  -2.8   1.5\n",
      "  -0.7   0.7   1.   -5.2   8.5   5.4   1.    6.6  -0.7  -6.6   3.5  -5.1\n",
      "   5.9  -0.7  -4.    3.2  -4.1  -9.7  -1.2   2.8   3.2  -6.2  -0.2   2.1\n",
      "   4.8   4.6  -4.7   1.7   0.5   0.   -1.6   2.1   3.   -0.3   0.2   9.2\n",
      "  -4.5   0.8  -0.7   9.    0.9   4.6  -1.1  -0.1   1.5   4.3  -1.9  -1.8\n",
      "   0.1   4.  -10.5   3.8  16.2   0.4   0.3  -2.1  -0.4  -2.3   0.8  -0.8\n",
      "   6.5   1.7   1.1   0.4   5.3  -8.5   0.2  -0.1  -3.8  -3.5  -3.7  -0.5\n",
      "  -0.3  -2.8  -3.2   0.7   2.9   1.5   2.7  -8.5  -4.3  -0.9  12.5   1.5\n",
      "  -5.7   0.8  -3.3   0.2   2.1   0.7   1.9  -0.7  -2.2   0.3   2.4   0.3\n",
      "  -1.3   2.1   1.6  -0.4  -3.2   2.7   1.   -1.   -6.    4.8  -1.3  22.1\n",
      "  -0.9]\n"
     ]
    },
    {
     "data": {
      "text/plain": [
       "0.6458074993464771"
      ]
     },
     "execution_count": 215,
     "metadata": {},
     "output_type": "execute_result"
    }
   ],
   "source": [
    "dtr=DecisionTreeRegressor()\n",
    "dtr.fit(x_train,y_train)\n",
    "print(dtr.predict(x_test)-y_test)\n",
    "dtr.score(x_test,y_test)"
   ]
  },
  {
   "cell_type": "markdown",
   "metadata": {},
   "source": [
    "# 三、降维模型的训练\n",
    "PCA主成分分析是最常用的降维算法，基本思想如下：将原先的n个特征用数目更少的m个特征取代，新特征是旧特征的线性组合，这些线性组合最大化样本方差，从而保留样本尽可能多的信息，并且m各特征互不相交。"
   ]
  },
  {
   "cell_type": "code",
   "execution_count": 216,
   "metadata": {},
   "outputs": [
    {
     "name": "stdout",
     "output_type": "stream",
     "text": [
      "(506, 13)\n"
     ]
    },
    {
     "data": {
      "text/plain": [
       "array([0.43897993, 0.10315906, 0.07316601, 0.04947097, 0.0373468 ,\n",
       "       0.03179833, 0.02550643, 0.02025456, 0.01098138, 0.00968671])"
      ]
     },
     "execution_count": 216,
     "metadata": {},
     "output_type": "execute_result"
    }
   ],
   "source": [
    "#对波士顿房价进行降维\n",
    "import numpy as np\n",
    "import pandas as pd\n",
    "import matplotlib.pyplot as plt\n",
    "from sklearn import datasets\n",
    "from sklearn import preprocessing\n",
    "from sklearn.model_selection import train_test_split\n",
    "from sklearn.decomposition import PCA\n",
    "from sklearn.ensemble import RandomForestRegressor\n",
    "\n",
    "boston=datasets.load_boston()\n",
    "print(boston.data.shape)\n",
    "x_train,x_test,y_train,y_test=train_test_split(boston.data,boston.target,test_size=1/3)\n",
    "scaler=preprocessing.MinMaxScaler(feature_range=(0,1))\n",
    "x_train=scaler.fit_transform(x_train)\n",
    "x_test=scaler.fit_transform(x_test)\n",
    "pca=PCA(10)\n",
    "pca.fit(x_train)\n",
    "pca.explained_variance_"
   ]
  },
  {
   "cell_type": "code",
   "execution_count": 217,
   "metadata": {},
   "outputs": [
    {
     "data": {
      "image/png": "[encoded data removed]",
      "text/plain": [
       "<Figure size 500x300 with 1 Axes>"
      ]
     },
     "metadata": {
      "needs_background": "light"
     },
     "output_type": "display_data"
    }
   ],
   "source": [
    "plt.figure(figsize=(5,3),dpi=100)\n",
    "plt.plot(pca.explained_variance_,'r')\n",
    "plt.xlabel('components_n',fontsize=10)\n",
    "plt.ylabel('explained_variance_',fontsize=10)\n",
    "plt.show()"
   ]
  },
  {
   "cell_type": "code",
   "execution_count": 218,
   "metadata": {},
   "outputs": [
    {
     "name": "stderr",
     "output_type": "stream",
     "text": [
      "d:\\py\\lib\\site-packages\\sklearn\\ensemble\\forest.py:245: FutureWarning: The default value of n_estimators will change from 10 in version 0.20 to 100 in 0.22.\n",
      "  \"10 in version 0.20 to 100 in 0.22.\", FutureWarning)\n"
     ]
    },
    {
     "data": {
      "text/plain": [
       "0.7229757462196059"
      ]
     },
     "execution_count": 218,
     "metadata": {},
     "output_type": "execute_result"
    }
   ],
   "source": [
    "x_train_pca=pca.transform(x_train)\n",
    "x_test_pca=pca.transform(x_test)\n",
    "rfr=RandomForestRegressor()\n",
    "rfr.fit(x_train_pca,y_train)\n",
    "rfr.predict(x_test_pca)\n",
    "rfr.score(x_test_pca,y_test)"
   ]
  },
  {
   "cell_type": "code",
   "execution_count": null,
   "metadata": {},
   "outputs": [],
   "source": []
  }
 ],
 "metadata": {
  "kernelspec": {
   "display_name": "Python 3",
   "language": "python",
   "name": "python3"
  },
  "language_info": {
   "codemirror_mode": {
    "name": "ipython",
    "version": 3
   },
   "file_extension": ".py",
   "mimetype": "text/x-python",
   "name": "python",
   "nbconvert_exporter": "python",
   "pygments_lexer": "ipython3",
   "version": "3.6.1"
  }
 },
 "nbformat": 4,
 "nbformat_minor": 2
}
